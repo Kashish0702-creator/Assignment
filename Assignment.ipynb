{
  "nbformat": 4,
  "nbformat_minor": 0,
  "metadata": {
    "colab": {
      "provenance": []
    },
    "kernelspec": {
      "name": "python3",
      "display_name": "Python 3"
    },
    "language_info": {
      "name": "python"
    }
  },
  "cells": [
    {
      "cell_type": "code",
      "source": [],
      "metadata": {
        "id": "ePaYbKILXbMF"
      },
      "execution_count": null,
      "outputs": []
    },
    {
      "cell_type": "code",
      "execution_count": null,
      "metadata": {
        "id": "tvCw2YMlUkbN"
      },
      "outputs": [],
      "source": [
        "#Q1 Explain key features of python that make it popular choice of programming\n",
        "# Ans.python is a high-programming language that is commonly used fordevelopiing websites and software, task automation, data analysis, and visualisation. The Key features of python that make it popular choice of programming are:-\n",
        "# 1.Readibility and Simplicity - Pyhton's readibility and simplicity makes it an ideal choice both for begginers and experienced developers.\n",
        "# 2.Extensive Standard Library - Python comes with an extensive standard library, which is a collection of modules and packages that offer a wide range of functionalities.\n",
        "# 3.Strong Community Support - Python enjoy's a vibrant and supportive community of developers worldwide.This community provides various resources, including forums, online communities and open-source projects.\n",
        "# 4.Wide range of Libraries and Framework - Python boasts a vast ecosystem of third-party librarie sand framework.\n"
      ]
    },
    {
      "cell_type": "code",
      "source": [
        "#Q2 Describe the role of predefined keyword and provide example of how they are used in python.\n",
        "# Ans.A python keyword is a word that serves a specific function in Python.Here are some example of predefined keywords:-\n",
        "# False      await      else       import     pass\n",
        "# None       break      except     in         raise\n",
        "# True       class      finally    is         return\n",
        "# and        continue   for        lambda     try\n",
        "# as         def        from       nonlocal   while\n",
        "# assert     del        global     not        with\n",
        "# async      elif       if         or         yield"
      ],
      "metadata": {
        "id": "v6UeLp_fYtSK"
      },
      "execution_count": null,
      "outputs": []
    },
    {
      "cell_type": "code",
      "source": [
        "#Q3 Compare and contrast of mutable and immutable objects in python with example.\n",
        "# Ans. Mutable:- Mutable objects are those objects whose values can be change even after assigning the value before.\n",
        "# Example:- list, set, dictionary.\n",
        "li= [1, 2, 3 , 4]\n",
        "li[0]= 25\n",
        "li[2]= 50\n",
        "li"
      ],
      "metadata": {
        "colab": {
          "base_uri": "https://localhost:8080/"
        },
        "id": "MDH_euV5VxXW",
        "outputId": "4f74ccf0-1f49-4f63-e4c1-8f7bc2e4ca4b"
      },
      "execution_count": 1,
      "outputs": [
        {
          "output_type": "execute_result",
          "data": {
            "text/plain": [
              "[25, 2, 50, 4]"
            ]
          },
          "metadata": {},
          "execution_count": 1
        }
      ]
    },
    {
      "cell_type": "code",
      "source": [
        "s={1, 2, 5, 8}\n",
        "s.add(9)\n",
        "s"
      ],
      "metadata": {
        "colab": {
          "base_uri": "https://localhost:8080/"
        },
        "id": "piZFXg0_Y4zE",
        "outputId": "67ebb848-38ab-46b8-c557-61bbd3126d28"
      },
      "execution_count": 2,
      "outputs": [
        {
          "output_type": "execute_result",
          "data": {
            "text/plain": [
              "{1, 2, 5, 8, 9}"
            ]
          },
          "metadata": {},
          "execution_count": 2
        }
      ]
    },
    {
      "cell_type": "code",
      "source": [
        "#immutable:- Immutable objects are those objects whose value once assigned. cannot be changed .\n",
        "# Example:- tupple, string\n"
      ],
      "metadata": {
        "id": "jqcB5xVNZEGk"
      },
      "execution_count": null,
      "outputs": []
    },
    {
      "cell_type": "code",
      "source": [
        "# Discuss the types of different operators in python and provide examples of how they are used.\n",
        "# Ans.Operators in python are special symbols that perform operations on values and variables. The different operators in python are-\n",
        " 1.Arithmetic Operators:-\n",
        "# Example:- +, -, *, /, %, **.\n",
        "a=5\n",
        "b=8\n",
        "a+b"
      ],
      "metadata": {
        "colab": {
          "base_uri": "https://localhost:8080/"
        },
        "id": "Gr_K7XpPZJT5",
        "outputId": "c083bdc7-6894-443a-aefe-2181fe0a33ec"
      },
      "execution_count": 3,
      "outputs": [
        {
          "output_type": "execute_result",
          "data": {
            "text/plain": [
              "13"
            ]
          },
          "metadata": {},
          "execution_count": 3
        }
      ]
    },
    {
      "cell_type": "code",
      "source": [
        "# 2. Comparison Operators:-\n",
        "# Example:- <, >, >=, <=, ==, !=.\n",
        "a=10\n",
        "b=15\n",
        "a>b"
      ],
      "metadata": {
        "colab": {
          "base_uri": "https://localhost:8080/"
        },
        "id": "edkVRlOzZSaJ",
        "outputId": "14e134c5-830e-43f6-aad5-4f3446fceede"
      },
      "execution_count": 4,
      "outputs": [
        {
          "output_type": "execute_result",
          "data": {
            "text/plain": [
              "False"
            ]
          },
          "metadata": {},
          "execution_count": 4
        }
      ]
    },
    {
      "cell_type": "code",
      "source": [
        "# 3. Logical Operators:-\n",
        "# Example:-\n",
        "# Logical and\n",
        "# Logical or\n",
        "# Logical not\n",
        "a=15\n",
        "b=20\n",
        "(a>10)and(b<30)"
      ],
      "metadata": {
        "colab": {
          "base_uri": "https://localhost:8080/"
        },
        "id": "1yWu3y-9ZX-L",
        "outputId": "54f333a1-c3ba-4eea-cadb-ce239343412d"
      },
      "execution_count": 5,
      "outputs": [
        {
          "output_type": "execute_result",
          "data": {
            "text/plain": [
              "True"
            ]
          },
          "metadata": {},
          "execution_count": 5
        }
      ]
    },
    {
      "cell_type": "code",
      "source": [
        "a=50\n",
        "b=60\n",
        "(a>100)or(b<10)"
      ],
      "metadata": {
        "colab": {
          "base_uri": "https://localhost:8080/"
        },
        "id": "DcJr72ZCZd_r",
        "outputId": "7c1891a8-c4fa-4637-fbcb-aa495ff1a0bc"
      },
      "execution_count": 6,
      "outputs": [
        {
          "output_type": "execute_result",
          "data": {
            "text/plain": [
              "False"
            ]
          },
          "metadata": {},
          "execution_count": 6
        }
      ]
    },
    {
      "cell_type": "code",
      "source": [
        "# 4. Bitwise Operators:-\n",
        "#Example:-\n",
        "# Bitwise AND(&)\n",
        "# Bitwise OR(|)\n",
        "# Bitwise XOR(^)\n",
        "# Bitwise left shift(<<)\n",
        "# Bitwise right shift(>>)\n",
        "a=12\n",
        "b=5\n",
        "a&b"
      ],
      "metadata": {
        "colab": {
          "base_uri": "https://localhost:8080/"
        },
        "id": "CoLP0ZYNZkdC",
        "outputId": "61f0d01f-c550-44e6-d2c5-dcdd764f0361"
      },
      "execution_count": 11,
      "outputs": [
        {
          "output_type": "execute_result",
          "data": {
            "text/plain": [
              "13"
            ]
          },
          "metadata": {},
          "execution_count": 11
        }
      ]
    },
    {
      "cell_type": "code",
      "source": [
        "a|b\n"
      ],
      "metadata": {
        "colab": {
          "base_uri": "https://localhost:8080/"
        },
        "id": "NGmRv_3hZpCg",
        "outputId": "a62b596f-ef30-48e5-b6a8-f9f8b08fa86b"
      },
      "execution_count": 12,
      "outputs": [
        {
          "output_type": "execute_result",
          "data": {
            "text/plain": [
              "13"
            ]
          },
          "metadata": {},
          "execution_count": 12
        }
      ]
    },
    {
      "cell_type": "code",
      "source": [
        "\n",
        "a^b"
      ],
      "metadata": {
        "colab": {
          "base_uri": "https://localhost:8080/"
        },
        "id": "c-2geEnVafoi",
        "outputId": "ccf0a98b-3f6e-4d1e-bc21-c94ffbbd6132"
      },
      "execution_count": 13,
      "outputs": [
        {
          "output_type": "execute_result",
          "data": {
            "text/plain": [
              "9"
            ]
          },
          "metadata": {},
          "execution_count": 13
        }
      ]
    },
    {
      "cell_type": "code",
      "source": [
        "a<<2\n"
      ],
      "metadata": {
        "colab": {
          "base_uri": "https://localhost:8080/"
        },
        "id": "I5Umz0C_anyQ",
        "outputId": "a92b696e-27ce-4c45-919f-7bd2af49a579"
      },
      "execution_count": 14,
      "outputs": [
        {
          "output_type": "execute_result",
          "data": {
            "text/plain": [
              "48"
            ]
          },
          "metadata": {},
          "execution_count": 14
        }
      ]
    },
    {
      "cell_type": "code",
      "source": [
        "a>>2"
      ],
      "metadata": {
        "colab": {
          "base_uri": "https://localhost:8080/"
        },
        "id": "M4Zu1L62aud6",
        "outputId": "701b33bd-48d2-453a-8307-9d4f82ee461f"
      },
      "execution_count": 15,
      "outputs": [
        {
          "output_type": "execute_result",
          "data": {
            "text/plain": [
              "3"
            ]
          },
          "metadata": {},
          "execution_count": 15
        }
      ]
    },
    {
      "cell_type": "code",
      "source": [
        "#Q5 Explain typecasting in python with example.\n",
        "# Ans. Type casting is the method to convert the python variable datatype into a certain data type. There are some examples -\n",
        "str= \"123\"\n",
        "result=int(str)\n",
        "result\n",
        "type(result)"
      ],
      "metadata": {
        "colab": {
          "base_uri": "https://localhost:8080/"
        },
        "id": "rvA4O96Ya1KH",
        "outputId": "b2b18a0d-40d7-4dce-e038-9a457fd39eaa"
      },
      "execution_count": 19,
      "outputs": [
        {
          "output_type": "execute_result",
          "data": {
            "text/plain": [
              "int"
            ]
          },
          "metadata": {},
          "execution_count": 19
        }
      ]
    },
    {
      "cell_type": "code",
      "source": [
        "int= 123\n",
        "result= float(int)\n",
        "result\n",
        "type(result)\n"
      ],
      "metadata": {
        "colab": {
          "base_uri": "https://localhost:8080/"
        },
        "id": "EpIRrrGvbNNo",
        "outputId": "785f80dd-6349-4aed-e912-87eaae33aca6"
      },
      "execution_count": 21,
      "outputs": [
        {
          "output_type": "execute_result",
          "data": {
            "text/plain": [
              "float"
            ]
          },
          "metadata": {},
          "execution_count": 21
        }
      ]
    },
    {
      "cell_type": "code",
      "source": [
        "tup= (1, 2, 3, 5)\n",
        "result= list(tup)\n",
        "result\n",
        "type(result)"
      ],
      "metadata": {
        "colab": {
          "base_uri": "https://localhost:8080/"
        },
        "id": "PsVuBK1ebY4s",
        "outputId": "b3d5503a-90e7-482e-eb5e-0aa5da76b11f"
      },
      "execution_count": 26,
      "outputs": [
        {
          "output_type": "execute_result",
          "data": {
            "text/plain": [
              "list"
            ]
          },
          "metadata": {},
          "execution_count": 26
        }
      ]
    },
    {
      "cell_type": "code",
      "source": [
        "li=[1,2,3,4,5]\n",
        "result= tuple(li)\n",
        "result\n",
        "type(result)"
      ],
      "metadata": {
        "colab": {
          "base_uri": "https://localhost:8080/"
        },
        "id": "qPrEDJCFb0pm",
        "outputId": "431a7314-4da2-4642-a44e-322b6acf449d"
      },
      "execution_count": 30,
      "outputs": [
        {
          "output_type": "execute_result",
          "data": {
            "text/plain": [
              "tuple"
            ]
          },
          "metadata": {},
          "execution_count": 30
        }
      ]
    },
    {
      "cell_type": "code",
      "source": [
        "#Q6 How conditional statement work in python? illustrate with example.\n",
        "# Ans. If the condition is true, the if block code is executed and if the condition is false, the else block code is executed.\n",
        "# Types of conditional statement:-\n",
        "# 1. if statement\n",
        "# 2. if-else startElement\n",
        "# 3. if-elif else startElement\n",
        "# 4. nested if-else statement\n",
        "\n",
        "#Example of if statement\n",
        "age= 16\n",
        "if age>=18:\n",
        "    print(\"You are eligible for voting\")"
      ],
      "metadata": {
        "id": "Hmc5x6-ecExA"
      },
      "execution_count": 31,
      "outputs": []
    },
    {
      "cell_type": "code",
      "source": [
        "#Example of if-else statement\n",
        "age=17\n",
        "if age>=18:\n",
        "    print(\"You are eligible for vote\")\n",
        "else:\n",
        "    print(\"You are not eligible for vote\")"
      ],
      "metadata": {
        "colab": {
          "base_uri": "https://localhost:8080/"
        },
        "id": "FUzynpzqcbIm",
        "outputId": "2693363f-2269-4319-f027-2528a2f2a2c4"
      },
      "execution_count": 32,
      "outputs": [
        {
          "output_type": "stream",
          "name": "stdout",
          "text": [
            "You are not eligible for vote\n"
          ]
        }
      ]
    },
    {
      "cell_type": "code",
      "source": [
        "#Example of if-elif else statement\n",
        "grade= 5.5\n",
        "if grade>=7.0 and grade<=10.0:\n",
        "    print(\"First Division\")\n",
        "elif grade>=5.0 and grade<=7.0:\n",
        "    print(\"Second Division\")\n",
        "else:\n",
        "    print(\"Third Division\")"
      ],
      "metadata": {
        "colab": {
          "base_uri": "https://localhost:8080/"
        },
        "id": "aMoiT2iFcdii",
        "outputId": "93ae3f50-0889-4516-be5c-b80b19d9870d"
      },
      "execution_count": 33,
      "outputs": [
        {
          "output_type": "stream",
          "name": "stdout",
          "text": [
            "Second Division\n"
          ]
        }
      ]
    },
    {
      "cell_type": "code",
      "source": [
        "#nested if-else statement\n",
        "num = 5\n",
        "\n",
        "if num > 0:\n",
        "    print(\"The number is positive.\")\n",
        "else:\n",
        "    if num < 0:\n",
        "        print(\"The number is negative.\")\n",
        "    else:\n",
        "        print(\"The number is zero.\")\n"
      ],
      "metadata": {
        "colab": {
          "base_uri": "https://localhost:8080/"
        },
        "id": "XR7IOsnKcljn",
        "outputId": "e206ebc9-8581-4fbb-a045-88f471fe482b"
      },
      "execution_count": 34,
      "outputs": [
        {
          "output_type": "stream",
          "name": "stdout",
          "text": [
            "The number is positive.\n"
          ]
        }
      ]
    },
    {
      "cell_type": "markdown",
      "source": [],
      "metadata": {
        "id": "MXjDeIhhcqsW"
      }
    },
    {
      "cell_type": "code",
      "source": [
        "#Loop Statement:- LOOP statements execute a sequence of statements multiple times.\n",
        "# Types of loop statement:-\n",
        "# 1. For loop statement.\n",
        "# 2. While loop statement.\n",
        "for item in range(1, 5, 1):\n",
        "    print(\"Hello i am jarvis\")"
      ],
      "metadata": {
        "colab": {
          "base_uri": "https://localhost:8080/"
        },
        "id": "NnsmTyEccniL",
        "outputId": "0ed43cb2-e672-4d6d-a033-34eaa15a6a37"
      },
      "execution_count": 35,
      "outputs": [
        {
          "output_type": "stream",
          "name": "stdout",
          "text": [
            "Hello i am jarvis\n",
            "Hello i am jarvis\n",
            "Hello i am jarvis\n",
            "Hello i am jarvis\n"
          ]
        }
      ]
    },
    {
      "cell_type": "code",
      "source": [
        "i = 1\n",
        "while i < 6:\n",
        "    print(i)\n",
        "    i += 1"
      ],
      "metadata": {
        "colab": {
          "base_uri": "https://localhost:8080/"
        },
        "id": "imr7oVvNc4yI",
        "outputId": "655d142c-e7c5-4ebe-b2db-255cab94077f"
      },
      "execution_count": 36,
      "outputs": [
        {
          "output_type": "stream",
          "name": "stdout",
          "text": [
            "1\n",
            "2\n",
            "3\n",
            "4\n",
            "5\n"
          ]
        }
      ]
    },
    {
      "cell_type": "code",
      "source": [
        "#Break and Continue Statement:- Break statement stops the entire process of the loop and Continue statement only stops the current iteration of the loop.\n",
        "# Example of break statement:-\n",
        "for item in range(1,10,1):\n",
        "    if item%2==0:\n",
        "        break\n",
        "    print(item)"
      ],
      "metadata": {
        "colab": {
          "base_uri": "https://localhost:8080/"
        },
        "id": "QNIBYrM0c97z",
        "outputId": "4f27da20-6459-4c73-eeb9-4b4373750ff7"
      },
      "execution_count": 37,
      "outputs": [
        {
          "output_type": "stream",
          "name": "stdout",
          "text": [
            "1\n"
          ]
        }
      ]
    },
    {
      "cell_type": "code",
      "source": [
        "# Example of continue statement:-\n",
        "for item in range(1,10,1):\n",
        "    if item%2==0:\n",
        "        continue\n",
        "    print(item)"
      ],
      "metadata": {
        "colab": {
          "base_uri": "https://localhost:8080/"
        },
        "id": "zgArURHGdHDZ",
        "outputId": "3afb320c-a571-4926-e7e9-2d224e038685"
      },
      "execution_count": 38,
      "outputs": [
        {
          "output_type": "stream",
          "name": "stdout",
          "text": [
            "1\n",
            "3\n",
            "5\n",
            "7\n",
            "9\n"
          ]
        }
      ]
    },
    {
      "cell_type": "code",
      "source": [],
      "metadata": {
        "id": "eXXklqVbdJjb"
      },
      "execution_count": null,
      "outputs": []
    }
  ]
}